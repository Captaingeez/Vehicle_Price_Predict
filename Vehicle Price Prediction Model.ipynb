{
 "cells": [
  {
   "cell_type": "markdown",
   "id": "30f327e2",
   "metadata": {},
   "source": [
    "# Import Libraries for use"
   ]
  },
  {
   "cell_type": "code",
   "execution_count": 202,
   "id": "80727a83",
   "metadata": {},
   "outputs": [],
   "source": [
    "import pandas as pd\n",
    "import matplotlib.pyplot as plt\n",
    "import re\n",
    "from datetime import date\n",
    "import plotly.express as px\n",
    "from sklearn.linear_model import Ridge,LinearRegression\n",
    "from sklearn.metrics import mean_absolute_error\n",
    "from sklearn.model_selection import train_test_split\n",
    "from sklearn.pipeline import make_pipeline\n",
    "from sklearn.preprocessing import OneHotEncoder\n",
    "import seaborn as sns\n",
    "from geopy.geocoders import Nominatim\n",
    "from sklearn.compose import make_column_transformer\n",
    "from ipywidgets import Dropdown, FloatSlider, IntSlider,interact"
   ]
  },
  {
   "cell_type": "markdown",
   "id": "fd9bdf60",
   "metadata": {},
   "source": [
    "# Write a wrangle function to Load and Preprocess Data"
   ]
  },
  {
   "cell_type": "code",
   "execution_count": 183,
   "id": "a2341df4",
   "metadata": {},
   "outputs": [],
   "source": [
    "#write a wrangle function to obtain data set\n",
    "def wrangle(filename):\n",
    "    #Load Data\n",
    "    df=pd.read_csv(filename)\n",
    "    \n",
    "    #Drop nan values\n",
    "    df.dropna(inplace=True)\n",
    "    #Drop string value in price\n",
    "    df=df.drop(df[df['Price']==\"POA\"].index)\n",
    "    #Convert price to float\n",
    "    df['Price']=df['Price'].astype(float)\n",
    "    \n",
    "    #Reset DataFrame Index\n",
    "    df.reset_index(drop=True,inplace=True)\n",
    "   \n",
    "    #Create an empty list to hold the latitude and Longtitude\n",
    "    maparea=[]\n",
    "    #Obtain unique values of the address (this prevent us from obtain similar location data more than once)\n",
    "    area=list(df['Location'].unique())\n",
    "    #instantiate Nominatim class\n",
    "    geolocator=Nominatim(user_agent = \"my_locator\")\n",
    "    #obtain location data and append in the list maparea\n",
    "    for i in range(len(area)):\n",
    "        loc=geolocator.geocode(f\"{area[i]}\",timeout=20)\n",
    "        maparea.append((loc.latitude, loc.longitude))\n",
    "    #Populate the Data with the location data i.e., geocode\n",
    "    df['lat'], df['lon']=(0,0)\n",
    "    \n",
    "    for i in df.index:\n",
    "        df['lat'].iloc[i],df['lon'].iloc[i]=(maparea[area.index(df['Location'].iloc[i])][0],\n",
    "                             maparea[area.index(df['Location'].iloc[i])][1])\n",
    "    \n",
    "    #Splitting Location to City and State\n",
    "    df['City']=df['Location'].str.split(',',expand=True)[0]\n",
    "    df['State']=df['Location'].str.split(',',expand=True)[1]\n",
    "    \n",
    "    #Convert Seat string to float\n",
    "    df['Seats']=df['Seats'].str.replace(' Seats','').str.replace(' ','').astype(float).round()\n",
    "    \n",
    "    #Convert Door string to float\n",
    "    df['Doors']=df['Doors'].str.replace(' Doors','').str.replace(' ','').astype(float).round()\n",
    "    \n",
    "    #Convert Cylinder Engine to float\n",
    "    df['CylindersinEngine']=(df['CylindersinEngine']\n",
    "                             .str.replace(' L','')\n",
    "                             .str.replace(' cyl','')\n",
    "                             .astype(float)).round()\n",
    "    \n",
    "    #obtain Engine Capacity\n",
    "    df['Engine']= (df['Engine']\n",
    "                     .str.split(',',expand=True)[1]\n",
    "                     .str.replace(' L','')\n",
    "                     .astype(float)\n",
    "                     .fillna(0)).round(1)\n",
    "    \n",
    "    #Obtain the age of the car\n",
    "    df['Age(years)']=(date.today().year-df['Year'])\n",
    "    \n",
    "    #Convert Fuel consumption per 100 km to Fuel consumption to km\n",
    "    df['FuelperKm']=(df['FuelConsumption']\n",
    "                     .str.split(' / ', expand=True)[0]\n",
    "                     .str.replace(' L','')\n",
    "                     .astype(float).div(100)).round(3)\n",
    "    \n",
    "    #Convert kilometres column to float\n",
    "    df['Kilometres']= (df['Kilometres']\n",
    "                       .replace('-','0')\n",
    "                       .astype(float).round())\n",
    "    \n",
    "    #Obtain Exterior colours\n",
    "    df['ColourExtInt']= df['ColourExtInt'].str.split(' / ', expand=True)[0]\n",
    "    for column in df.select_dtypes('object').columns:\n",
    "        mask=(df[column].value_counts()[df[column].value_counts()<5])\n",
    "        feat=[names for names,value in mask.items()]\n",
    "        for name in feat:\n",
    "            df=df.drop(df[df[column]==name].index, axis=0)\n",
    "   \n",
    "    #df['State']=df['State'].map({ ' NSW':'New South Wales', \n",
    "                                                    #' VIC':'Victoria',\n",
    "                                                    #' QLD':'Queensland',\n",
    "                                                    #' SA':'South Australia',\n",
    "                                                    #' WA':'Western Australia',\n",
    "                                                    #' ACT': 'Australia Capital Territory',\n",
    "                                                    #' AU-VIC':'Victoria',\n",
    "                                                    #' TAS':'Tasmania',\n",
    "                                                    #' NT':'Northern Territory'})\n",
    "    #df.drop(['Location'],axis=1,inplace=True)\n",
    "    #df[\"Country\"]=\"Australia\"\n",
    "    \n",
    "    # Drop column with high cardinality and duplicate column \n",
    "    #High Cardinal Column\n",
    "    Columnhead=list(\n",
    "                    df.select_dtypes(exclude='number').columns\n",
    "                    [df.select_dtypes(exclude='number').nunique()>70]\n",
    "                   )\n",
    "    #Duplicate Column\n",
    "    Columnhead.append('Year')\n",
    "    #Add relevant High Cardinal Column\n",
    "    Columnhead.remove('City')\n",
    "    \n",
    "    df.drop(columns=Columnhead,axis=1,inplace=True)\n",
    "    #Reset DataFrame Index\n",
    "    df.reset_index(drop=True,inplace=True)\n",
    "    \n",
    "    \n",
    "    return df"
   ]
  },
  {
   "cell_type": "markdown",
   "id": "5075400f",
   "metadata": {},
   "source": [
    "# Use Wrangle Function to Load and Clean Data"
   ]
  },
  {
   "cell_type": "code",
   "execution_count": 184,
   "id": "c3e8890a",
   "metadata": {},
   "outputs": [
    {
     "name": "stderr",
     "output_type": "stream",
     "text": [
      "/var/folders/1p/qxfwymf91bx8xq63_r1658sm0000gn/T/ipykernel_6587/825197702.py:30: SettingWithCopyWarning: \n",
      "A value is trying to be set on a copy of a slice from a DataFrame\n",
      "\n",
      "See the caveats in the documentation: https://pandas.pydata.org/pandas-docs/stable/user_guide/indexing.html#returning-a-view-versus-a-copy\n",
      "  df['lat'].iloc[i],df['lon'].iloc[i]=(maparea[area.index(df['Location'].iloc[i])][0],\n"
     ]
    },
    {
     "data": {
      "text/html": [
       "<div>\n",
       "<style scoped>\n",
       "    .dataframe tbody tr th:only-of-type {\n",
       "        vertical-align: middle;\n",
       "    }\n",
       "\n",
       "    .dataframe tbody tr th {\n",
       "        vertical-align: top;\n",
       "    }\n",
       "\n",
       "    .dataframe thead th {\n",
       "        text-align: right;\n",
       "    }\n",
       "</style>\n",
       "<table border=\"1\" class=\"dataframe\">\n",
       "  <thead>\n",
       "    <tr style=\"text-align: right;\">\n",
       "      <th></th>\n",
       "      <th>Brand</th>\n",
       "      <th>Car/Suv</th>\n",
       "      <th>UsedOrNew</th>\n",
       "      <th>Transmission</th>\n",
       "      <th>Engine</th>\n",
       "      <th>DriveType</th>\n",
       "      <th>FuelType</th>\n",
       "      <th>Kilometres</th>\n",
       "      <th>ColourExtInt</th>\n",
       "      <th>CylindersinEngine</th>\n",
       "      <th>BodyType</th>\n",
       "      <th>Doors</th>\n",
       "      <th>Seats</th>\n",
       "      <th>Price</th>\n",
       "      <th>lat</th>\n",
       "      <th>lon</th>\n",
       "      <th>City</th>\n",
       "      <th>State</th>\n",
       "      <th>Age(years)</th>\n",
       "      <th>FuelperKm</th>\n",
       "    </tr>\n",
       "  </thead>\n",
       "  <tbody>\n",
       "    <tr>\n",
       "      <th>0</th>\n",
       "      <td>MG</td>\n",
       "      <td>Hatchback</td>\n",
       "      <td>USED</td>\n",
       "      <td>Automatic</td>\n",
       "      <td>2.0</td>\n",
       "      <td>Front</td>\n",
       "      <td>Premium</td>\n",
       "      <td>16.0</td>\n",
       "      <td>Black</td>\n",
       "      <td>4.0</td>\n",
       "      <td>Hatchback</td>\n",
       "      <td>5.0</td>\n",
       "      <td>5.0</td>\n",
       "      <td>19990.0</td>\n",
       "      <td>-33.762885</td>\n",
       "      <td>151.270702</td>\n",
       "      <td>Brookvale</td>\n",
       "      <td>NSW</td>\n",
       "      <td>2.0</td>\n",
       "      <td>0.067</td>\n",
       "    </tr>\n",
       "    <tr>\n",
       "      <th>1</th>\n",
       "      <td>Toyota</td>\n",
       "      <td>Commercial</td>\n",
       "      <td>USED</td>\n",
       "      <td>Automatic</td>\n",
       "      <td>3.0</td>\n",
       "      <td>Rear</td>\n",
       "      <td>Diesel</td>\n",
       "      <td>229829.0</td>\n",
       "      <td>White</td>\n",
       "      <td>4.0</td>\n",
       "      <td>Commercial</td>\n",
       "      <td>4.0</td>\n",
       "      <td>2.0</td>\n",
       "      <td>27995.0</td>\n",
       "      <td>-33.863815</td>\n",
       "      <td>151.045243</td>\n",
       "      <td>Lidcombe</td>\n",
       "      <td>NSW</td>\n",
       "      <td>8.0</td>\n",
       "      <td>0.080</td>\n",
       "    </tr>\n",
       "    <tr>\n",
       "      <th>2</th>\n",
       "      <td>Nissan</td>\n",
       "      <td>SUV</td>\n",
       "      <td>USED</td>\n",
       "      <td>Automatic</td>\n",
       "      <td>2.0</td>\n",
       "      <td>Front</td>\n",
       "      <td>Unleaded</td>\n",
       "      <td>114301.0</td>\n",
       "      <td>Blue</td>\n",
       "      <td>4.0</td>\n",
       "      <td>SUV</td>\n",
       "      <td>4.0</td>\n",
       "      <td>5.0</td>\n",
       "      <td>21950.0</td>\n",
       "      <td>-31.654036</td>\n",
       "      <td>152.291893</td>\n",
       "      <td>Pendle Hill</td>\n",
       "      <td>NSW</td>\n",
       "      <td>6.0</td>\n",
       "      <td>0.069</td>\n",
       "    </tr>\n",
       "    <tr>\n",
       "      <th>3</th>\n",
       "      <td>Ford</td>\n",
       "      <td>Hatchback</td>\n",
       "      <td>USED</td>\n",
       "      <td>Automatic</td>\n",
       "      <td>2.0</td>\n",
       "      <td>Front</td>\n",
       "      <td>Unleaded</td>\n",
       "      <td>94965.0</td>\n",
       "      <td>White</td>\n",
       "      <td>4.0</td>\n",
       "      <td>Hatchback</td>\n",
       "      <td>5.0</td>\n",
       "      <td>5.0</td>\n",
       "      <td>16999.0</td>\n",
       "      <td>-33.740189</td>\n",
       "      <td>150.864836</td>\n",
       "      <td>Blacktown</td>\n",
       "      <td>NSW</td>\n",
       "      <td>8.0</td>\n",
       "      <td>0.062</td>\n",
       "    </tr>\n",
       "    <tr>\n",
       "      <th>4</th>\n",
       "      <td>Nissan</td>\n",
       "      <td>SUV</td>\n",
       "      <td>USED</td>\n",
       "      <td>Automatic</td>\n",
       "      <td>2.0</td>\n",
       "      <td>Front</td>\n",
       "      <td>Unleaded</td>\n",
       "      <td>99294.0</td>\n",
       "      <td>Grey</td>\n",
       "      <td>4.0</td>\n",
       "      <td>SUV</td>\n",
       "      <td>4.0</td>\n",
       "      <td>7.0</td>\n",
       "      <td>24490.0</td>\n",
       "      <td>-33.740189</td>\n",
       "      <td>150.864836</td>\n",
       "      <td>Blacktown</td>\n",
       "      <td>NSW</td>\n",
       "      <td>5.0</td>\n",
       "      <td>0.081</td>\n",
       "    </tr>\n",
       "  </tbody>\n",
       "</table>\n",
       "</div>"
      ],
      "text/plain": [
       "    Brand     Car/Suv UsedOrNew Transmission  Engine DriveType  FuelType  \\\n",
       "0      MG   Hatchback      USED    Automatic     2.0     Front   Premium   \n",
       "1  Toyota  Commercial      USED    Automatic     3.0      Rear    Diesel   \n",
       "2  Nissan         SUV      USED    Automatic     2.0     Front  Unleaded   \n",
       "3    Ford   Hatchback      USED    Automatic     2.0     Front  Unleaded   \n",
       "4  Nissan         SUV      USED    Automatic     2.0     Front  Unleaded   \n",
       "\n",
       "   Kilometres ColourExtInt  CylindersinEngine    BodyType  Doors  Seats  \\\n",
       "0        16.0        Black                4.0   Hatchback    5.0    5.0   \n",
       "1    229829.0        White                4.0  Commercial    4.0    2.0   \n",
       "2    114301.0         Blue                4.0         SUV    4.0    5.0   \n",
       "3     94965.0        White                4.0   Hatchback    5.0    5.0   \n",
       "4     99294.0         Grey                4.0         SUV    4.0    7.0   \n",
       "\n",
       "     Price        lat         lon         City State  Age(years)  FuelperKm  \n",
       "0  19990.0 -33.762885  151.270702    Brookvale   NSW         2.0      0.067  \n",
       "1  27995.0 -33.863815  151.045243     Lidcombe   NSW         8.0      0.080  \n",
       "2  21950.0 -31.654036  152.291893  Pendle Hill   NSW         6.0      0.069  \n",
       "3  16999.0 -33.740189  150.864836    Blacktown   NSW         8.0      0.062  \n",
       "4  24490.0 -33.740189  150.864836    Blacktown   NSW         5.0      0.081  "
      ]
     },
     "execution_count": 184,
     "metadata": {},
     "output_type": "execute_result"
    }
   ],
   "source": [
    "Data=wrangle('Australian Vehicle Prices.csv')\n",
    "Data.head()"
   ]
  },
  {
   "cell_type": "markdown",
   "id": "ffbd5f3b",
   "metadata": {},
   "source": [
    "# Check for Multicollinearity in Numerical Variable"
   ]
  },
  {
   "cell_type": "code",
   "execution_count": 186,
   "id": "ff2f0dd2",
   "metadata": {},
   "outputs": [],
   "source": [
    "corr=Data.select_dtypes('number').corr()\n"
   ]
  },
  {
   "cell_type": "code",
   "execution_count": 188,
   "id": "93c0220a",
   "metadata": {},
   "outputs": [
    {
     "data": {
      "text/plain": [
       "<AxesSubplot:>"
      ]
     },
     "execution_count": 188,
     "metadata": {},
     "output_type": "execute_result"
    },
    {
     "data": {
      "image/png": "[encoded data removed]",
      "text/plain": [
       "<Figure size 640x480 with 2 Axes>"
      ]
     },
     "metadata": {},
     "output_type": "display_data"
    }
   ],
   "source": [
    "sns.heatmap(corr)"
   ]
  },
  {
   "cell_type": "markdown",
   "id": "bcbcd860",
   "metadata": {},
   "source": [
    "# Identify Target and Train Variable, Split Data Between Train and Test"
   ]
  },
  {
   "cell_type": "code",
   "execution_count": 189,
   "id": "380fa208",
   "metadata": {},
   "outputs": [
    {
     "data": {
      "text/html": [
       "<div>\n",
       "<style scoped>\n",
       "    .dataframe tbody tr th:only-of-type {\n",
       "        vertical-align: middle;\n",
       "    }\n",
       "\n",
       "    .dataframe tbody tr th {\n",
       "        vertical-align: top;\n",
       "    }\n",
       "\n",
       "    .dataframe thead th {\n",
       "        text-align: right;\n",
       "    }\n",
       "</style>\n",
       "<table border=\"1\" class=\"dataframe\">\n",
       "  <thead>\n",
       "    <tr style=\"text-align: right;\">\n",
       "      <th></th>\n",
       "      <th>Brand</th>\n",
       "      <th>Kilometres</th>\n",
       "      <th>FuelType</th>\n",
       "      <th>Engine</th>\n",
       "      <th>BodyType</th>\n",
       "      <th>Age(years)</th>\n",
       "    </tr>\n",
       "  </thead>\n",
       "  <tbody>\n",
       "    <tr>\n",
       "      <th>2964</th>\n",
       "      <td>Holden</td>\n",
       "      <td>95112.0</td>\n",
       "      <td>Diesel</td>\n",
       "      <td>3.0</td>\n",
       "      <td>SUV</td>\n",
       "      <td>6.0</td>\n",
       "    </tr>\n",
       "    <tr>\n",
       "      <th>929</th>\n",
       "      <td>Kia</td>\n",
       "      <td>16794.0</td>\n",
       "      <td>Unleaded</td>\n",
       "      <td>3.0</td>\n",
       "      <td>Sedan</td>\n",
       "      <td>4.0</td>\n",
       "    </tr>\n",
       "    <tr>\n",
       "      <th>1837</th>\n",
       "      <td>MG</td>\n",
       "      <td>12974.0</td>\n",
       "      <td>Unleaded</td>\n",
       "      <td>2.0</td>\n",
       "      <td>SUV</td>\n",
       "      <td>2.0</td>\n",
       "    </tr>\n",
       "    <tr>\n",
       "      <th>1511</th>\n",
       "      <td>Hyundai</td>\n",
       "      <td>50745.0</td>\n",
       "      <td>Unleaded</td>\n",
       "      <td>2.0</td>\n",
       "      <td>Hatchback</td>\n",
       "      <td>5.0</td>\n",
       "    </tr>\n",
       "    <tr>\n",
       "      <th>1055</th>\n",
       "      <td>Hyundai</td>\n",
       "      <td>28601.0</td>\n",
       "      <td>Unleaded</td>\n",
       "      <td>2.0</td>\n",
       "      <td>Hatchback</td>\n",
       "      <td>6.0</td>\n",
       "    </tr>\n",
       "    <tr>\n",
       "      <th>...</th>\n",
       "      <td>...</td>\n",
       "      <td>...</td>\n",
       "      <td>...</td>\n",
       "      <td>...</td>\n",
       "      <td>...</td>\n",
       "      <td>...</td>\n",
       "    </tr>\n",
       "    <tr>\n",
       "      <th>1130</th>\n",
       "      <td>Jeep</td>\n",
       "      <td>187400.0</td>\n",
       "      <td>Diesel</td>\n",
       "      <td>3.0</td>\n",
       "      <td>SUV</td>\n",
       "      <td>11.0</td>\n",
       "    </tr>\n",
       "    <tr>\n",
       "      <th>1294</th>\n",
       "      <td>Mazda</td>\n",
       "      <td>98804.0</td>\n",
       "      <td>Unleaded</td>\n",
       "      <td>2.0</td>\n",
       "      <td>Hatchback</td>\n",
       "      <td>10.0</td>\n",
       "    </tr>\n",
       "    <tr>\n",
       "      <th>860</th>\n",
       "      <td>Mitsubishi</td>\n",
       "      <td>60972.0</td>\n",
       "      <td>Unleaded</td>\n",
       "      <td>2.0</td>\n",
       "      <td>SUV</td>\n",
       "      <td>5.0</td>\n",
       "    </tr>\n",
       "    <tr>\n",
       "      <th>3507</th>\n",
       "      <td>Ford</td>\n",
       "      <td>106249.0</td>\n",
       "      <td>Diesel</td>\n",
       "      <td>3.0</td>\n",
       "      <td>SUV</td>\n",
       "      <td>8.0</td>\n",
       "    </tr>\n",
       "    <tr>\n",
       "      <th>3174</th>\n",
       "      <td>Toyota</td>\n",
       "      <td>17408.0</td>\n",
       "      <td>Hybrid</td>\n",
       "      <td>2.0</td>\n",
       "      <td>SUV</td>\n",
       "      <td>3.0</td>\n",
       "    </tr>\n",
       "  </tbody>\n",
       "</table>\n",
       "<p>2944 rows × 6 columns</p>\n",
       "</div>"
      ],
      "text/plain": [
       "           Brand  Kilometres  FuelType  Engine   BodyType  Age(years)\n",
       "2964      Holden     95112.0    Diesel     3.0        SUV         6.0\n",
       "929          Kia     16794.0  Unleaded     3.0      Sedan         4.0\n",
       "1837          MG     12974.0  Unleaded     2.0        SUV         2.0\n",
       "1511     Hyundai     50745.0  Unleaded     2.0  Hatchback         5.0\n",
       "1055     Hyundai     28601.0  Unleaded     2.0  Hatchback         6.0\n",
       "...          ...         ...       ...     ...        ...         ...\n",
       "1130        Jeep    187400.0    Diesel     3.0        SUV        11.0\n",
       "1294       Mazda     98804.0  Unleaded     2.0  Hatchback        10.0\n",
       "860   Mitsubishi     60972.0  Unleaded     2.0        SUV         5.0\n",
       "3507        Ford    106249.0    Diesel     3.0        SUV         8.0\n",
       "3174      Toyota     17408.0    Hybrid     2.0        SUV         3.0\n",
       "\n",
       "[2944 rows x 6 columns]"
      ]
     },
     "execution_count": 189,
     "metadata": {},
     "output_type": "execute_result"
    }
   ],
   "source": [
    "Data['Age(years)']=Data['Age(years)'].round(0)\n",
    "# Identify Target and Train Variable\n",
    "target='Price'\n",
    "features=['Brand','Kilometres','FuelType','Engine','BodyType','Age(years)']\n",
    "y=Data[target]\n",
    "X=Data[features]\n",
    "\n",
    "#Split Data Between Train and Test\n",
    "X_train,X_test,y_train,y_test=train_test_split(X,y,random_state=42,test_size=0.2)\n",
    "X_train"
   ]
  },
  {
   "cell_type": "markdown",
   "id": "d14197f8",
   "metadata": {},
   "source": [
    "# Compute the Baseline Mean Absolute Error"
   ]
  },
  {
   "cell_type": "code",
   "execution_count": 190,
   "id": "18b3dc1a",
   "metadata": {},
   "outputs": [
    {
     "name": "stdout",
     "output_type": "stream",
     "text": [
      "Training mean is given as 32810.8\n",
      "Baseline MAE is given as 11015.22\n"
     ]
    }
   ],
   "source": [
    "y_tr_mean=y_train.mean()\n",
    "y_baseline=len(y_train)*[y_tr_mean]\n",
    "Mae_baseline=mean_absolute_error(y_train,y_baseline)\n",
    "print(f'Training mean is given as {y_tr_mean.round(2)}')\n",
    "print(f'Baseline MAE is given as {Mae_baseline.round(2)}')"
   ]
  },
  {
   "cell_type": "markdown",
   "id": "74c65aa8",
   "metadata": {},
   "source": [
    "# Instantiate Column Transformer and Onehotencoder for Categorical Variable"
   ]
  },
  {
   "cell_type": "code",
   "execution_count": 168,
   "id": "5e63b94e",
   "metadata": {},
   "outputs": [
    {
     "name": "stderr",
     "output_type": "stream",
     "text": [
      "/Users/stephensarumi/opt/anaconda3/lib/python3.9/site-packages/sklearn/preprocessing/_encoders.py:975: FutureWarning: `sparse` was renamed to `sparse_output` in version 1.2 and will be removed in 1.4. `sparse_output` is ignored unless you leave `sparse` to its default value.\n",
      "  warnings.warn(\n"
     ]
    },
    {
     "data": {
      "text/plain": [
       "(2944, 40)"
      ]
     },
     "execution_count": 168,
     "metadata": {},
     "output_type": "execute_result"
    }
   ],
   "source": [
    "Categories=['Brand','FuelType','BodyType']\n",
    "col_Trans=make_column_transformer((OneHotEncoder(sparse=False),Categories),remainder='passthrough')\n",
    "col_Trans.fit_transform(X_train).shape\n"
   ]
  },
  {
   "cell_type": "markdown",
   "id": "bbbfc1da",
   "metadata": {},
   "source": [
    "# Create pipeline "
   ]
  },
  {
   "cell_type": "code",
   "execution_count": 169,
   "id": "ada46928",
   "metadata": {},
   "outputs": [
    {
     "name": "stderr",
     "output_type": "stream",
     "text": [
      "/Users/stephensarumi/opt/anaconda3/lib/python3.9/site-packages/sklearn/preprocessing/_encoders.py:975: FutureWarning: `sparse` was renamed to `sparse_output` in version 1.2 and will be removed in 1.4. `sparse_output` is ignored unless you leave `sparse` to its default value.\n",
      "  warnings.warn(\n"
     ]
    },
    {
     "data": {
      "text/html": [
       "<style>#sk-container-id-23 {color: black;}#sk-container-id-23 pre{padding: 0;}#sk-container-id-23 div.sk-toggleable {background-color: white;}#sk-container-id-23 label.sk-toggleable__label {cursor: pointer;display: block;width: 100%;margin-bottom: 0;padding: 0.3em;box-sizing: border-box;text-align: center;}#sk-container-id-23 label.sk-toggleable__label-arrow:before {content: \"▸\";float: left;margin-right: 0.25em;color: #696969;}#sk-container-id-23 label.sk-toggleable__label-arrow:hover:before {color: black;}#sk-container-id-23 div.sk-estimator:hover label.sk-toggleable__label-arrow:before {color: black;}#sk-container-id-23 div.sk-toggleable__content {max-height: 0;max-width: 0;overflow: hidden;text-align: left;background-color: #f0f8ff;}#sk-container-id-23 div.sk-toggleable__content pre {margin: 0.2em;color: black;border-radius: 0.25em;background-color: #f0f8ff;}#sk-container-id-23 input.sk-toggleable__control:checked~div.sk-toggleable__content {max-height: 200px;max-width: 100%;overflow: auto;}#sk-container-id-23 input.sk-toggleable__control:checked~label.sk-toggleable__label-arrow:before {content: \"▾\";}#sk-container-id-23 div.sk-estimator input.sk-toggleable__control:checked~label.sk-toggleable__label {background-color: #d4ebff;}#sk-container-id-23 div.sk-label input.sk-toggleable__control:checked~label.sk-toggleable__label {background-color: #d4ebff;}#sk-container-id-23 input.sk-hidden--visually {border: 0;clip: rect(1px 1px 1px 1px);clip: rect(1px, 1px, 1px, 1px);height: 1px;margin: -1px;overflow: hidden;padding: 0;position: absolute;width: 1px;}#sk-container-id-23 div.sk-estimator {font-family: monospace;background-color: #f0f8ff;border: 1px dotted black;border-radius: 0.25em;box-sizing: border-box;margin-bottom: 0.5em;}#sk-container-id-23 div.sk-estimator:hover {background-color: #d4ebff;}#sk-container-id-23 div.sk-parallel-item::after {content: \"\";width: 100%;border-bottom: 1px solid gray;flex-grow: 1;}#sk-container-id-23 div.sk-label:hover label.sk-toggleable__label {background-color: #d4ebff;}#sk-container-id-23 div.sk-serial::before {content: \"\";position: absolute;border-left: 1px solid gray;box-sizing: border-box;top: 0;bottom: 0;left: 50%;z-index: 0;}#sk-container-id-23 div.sk-serial {display: flex;flex-direction: column;align-items: center;background-color: white;padding-right: 0.2em;padding-left: 0.2em;position: relative;}#sk-container-id-23 div.sk-item {position: relative;z-index: 1;}#sk-container-id-23 div.sk-parallel {display: flex;align-items: stretch;justify-content: center;background-color: white;position: relative;}#sk-container-id-23 div.sk-item::before, #sk-container-id-23 div.sk-parallel-item::before {content: \"\";position: absolute;border-left: 1px solid gray;box-sizing: border-box;top: 0;bottom: 0;left: 50%;z-index: -1;}#sk-container-id-23 div.sk-parallel-item {display: flex;flex-direction: column;z-index: 1;position: relative;background-color: white;}#sk-container-id-23 div.sk-parallel-item:first-child::after {align-self: flex-end;width: 50%;}#sk-container-id-23 div.sk-parallel-item:last-child::after {align-self: flex-start;width: 50%;}#sk-container-id-23 div.sk-parallel-item:only-child::after {width: 0;}#sk-container-id-23 div.sk-dashed-wrapped {border: 1px dashed gray;margin: 0 0.4em 0.5em 0.4em;box-sizing: border-box;padding-bottom: 0.4em;background-color: white;}#sk-container-id-23 div.sk-label label {font-family: monospace;font-weight: bold;display: inline-block;line-height: 1.2em;}#sk-container-id-23 div.sk-label-container {text-align: center;}#sk-container-id-23 div.sk-container {/* jupyter's `normalize.less` sets `[hidden] { display: none; }` but bootstrap.min.css set `[hidden] { display: none !important; }` so we also need the `!important` here to be able to override the default hidden behavior on the sphinx rendered scikit-learn.org. See: https://github.com/scikit-learn/scikit-learn/issues/21755 */display: inline-block !important;position: relative;}#sk-container-id-23 div.sk-text-repr-fallback {display: none;}</style><div id=\"sk-container-id-23\" class=\"sk-top-container\"><div class=\"sk-text-repr-fallback\"><pre>Pipeline(steps=[(&#x27;columntransformer&#x27;,\n",
       "                 ColumnTransformer(remainder=&#x27;passthrough&#x27;,\n",
       "                                   transformers=[(&#x27;onehotencoder&#x27;,\n",
       "                                                  OneHotEncoder(sparse=False),\n",
       "                                                  [&#x27;Brand&#x27;, &#x27;FuelType&#x27;,\n",
       "                                                   &#x27;BodyType&#x27;])])),\n",
       "                (&#x27;ridge&#x27;, Ridge())])</pre><b>In a Jupyter environment, please rerun this cell to show the HTML representation or trust the notebook. <br />On GitHub, the HTML representation is unable to render, please try loading this page with nbviewer.org.</b></div><div class=\"sk-container\" hidden><div class=\"sk-item sk-dashed-wrapped\"><div class=\"sk-label-container\"><div class=\"sk-label sk-toggleable\"><input class=\"sk-toggleable__control sk-hidden--visually\" id=\"sk-estimator-id-116\" type=\"checkbox\" ><label for=\"sk-estimator-id-116\" class=\"sk-toggleable__label sk-toggleable__label-arrow\">Pipeline</label><div class=\"sk-toggleable__content\"><pre>Pipeline(steps=[(&#x27;columntransformer&#x27;,\n",
       "                 ColumnTransformer(remainder=&#x27;passthrough&#x27;,\n",
       "                                   transformers=[(&#x27;onehotencoder&#x27;,\n",
       "                                                  OneHotEncoder(sparse=False),\n",
       "                                                  [&#x27;Brand&#x27;, &#x27;FuelType&#x27;,\n",
       "                                                   &#x27;BodyType&#x27;])])),\n",
       "                (&#x27;ridge&#x27;, Ridge())])</pre></div></div></div><div class=\"sk-serial\"><div class=\"sk-item sk-dashed-wrapped\"><div class=\"sk-label-container\"><div class=\"sk-label sk-toggleable\"><input class=\"sk-toggleable__control sk-hidden--visually\" id=\"sk-estimator-id-117\" type=\"checkbox\" ><label for=\"sk-estimator-id-117\" class=\"sk-toggleable__label sk-toggleable__label-arrow\">columntransformer: ColumnTransformer</label><div class=\"sk-toggleable__content\"><pre>ColumnTransformer(remainder=&#x27;passthrough&#x27;,\n",
       "                  transformers=[(&#x27;onehotencoder&#x27;, OneHotEncoder(sparse=False),\n",
       "                                 [&#x27;Brand&#x27;, &#x27;FuelType&#x27;, &#x27;BodyType&#x27;])])</pre></div></div></div><div class=\"sk-parallel\"><div class=\"sk-parallel-item\"><div class=\"sk-item\"><div class=\"sk-label-container\"><div class=\"sk-label sk-toggleable\"><input class=\"sk-toggleable__control sk-hidden--visually\" id=\"sk-estimator-id-118\" type=\"checkbox\" ><label for=\"sk-estimator-id-118\" class=\"sk-toggleable__label sk-toggleable__label-arrow\">onehotencoder</label><div class=\"sk-toggleable__content\"><pre>[&#x27;Brand&#x27;, &#x27;FuelType&#x27;, &#x27;BodyType&#x27;]</pre></div></div></div><div class=\"sk-serial\"><div class=\"sk-item\"><div class=\"sk-estimator sk-toggleable\"><input class=\"sk-toggleable__control sk-hidden--visually\" id=\"sk-estimator-id-119\" type=\"checkbox\" ><label for=\"sk-estimator-id-119\" class=\"sk-toggleable__label sk-toggleable__label-arrow\">OneHotEncoder</label><div class=\"sk-toggleable__content\"><pre>OneHotEncoder(sparse=False)</pre></div></div></div></div></div></div><div class=\"sk-parallel-item\"><div class=\"sk-item\"><div class=\"sk-label-container\"><div class=\"sk-label sk-toggleable\"><input class=\"sk-toggleable__control sk-hidden--visually\" id=\"sk-estimator-id-120\" type=\"checkbox\" ><label for=\"sk-estimator-id-120\" class=\"sk-toggleable__label sk-toggleable__label-arrow\">remainder</label><div class=\"sk-toggleable__content\"><pre>[&#x27;Kilometres&#x27;, &#x27;Engine&#x27;, &#x27;Age(years)&#x27;]</pre></div></div></div><div class=\"sk-serial\"><div class=\"sk-item\"><div class=\"sk-estimator sk-toggleable\"><input class=\"sk-toggleable__control sk-hidden--visually\" id=\"sk-estimator-id-121\" type=\"checkbox\" ><label for=\"sk-estimator-id-121\" class=\"sk-toggleable__label sk-toggleable__label-arrow\">passthrough</label><div class=\"sk-toggleable__content\"><pre>passthrough</pre></div></div></div></div></div></div></div></div><div class=\"sk-item\"><div class=\"sk-estimator sk-toggleable\"><input class=\"sk-toggleable__control sk-hidden--visually\" id=\"sk-estimator-id-122\" type=\"checkbox\" ><label for=\"sk-estimator-id-122\" class=\"sk-toggleable__label sk-toggleable__label-arrow\">Ridge</label><div class=\"sk-toggleable__content\"><pre>Ridge()</pre></div></div></div></div></div></div></div>"
      ],
      "text/plain": [
       "Pipeline(steps=[('columntransformer',\n",
       "                 ColumnTransformer(remainder='passthrough',\n",
       "                                   transformers=[('onehotencoder',\n",
       "                                                  OneHotEncoder(sparse=False),\n",
       "                                                  ['Brand', 'FuelType',\n",
       "                                                   'BodyType'])])),\n",
       "                ('ridge', Ridge())])"
      ]
     },
     "execution_count": 169,
     "metadata": {},
     "output_type": "execute_result"
    }
   ],
   "source": [
    "model=make_pipeline( col_Trans,\n",
    "                   Ridge())\n",
    "model.fit(X_train,y_train)"
   ]
  },
  {
   "cell_type": "code",
   "execution_count": 170,
   "id": "e4e57723",
   "metadata": {},
   "outputs": [
    {
     "name": "stdout",
     "output_type": "stream",
     "text": [
      "MAE Training:5164.071048611871\n"
     ]
    }
   ],
   "source": [
    "y_tr_pred=model.predict(X_train)\n",
    "MAE_training=mean_absolute_error(y_train,y_tr_pred)\n",
    "print(f'MAE Training:{MAE_training}')"
   ]
  },
  {
   "cell_type": "code",
   "execution_count": 171,
   "id": "7e21038e",
   "metadata": {},
   "outputs": [
    {
     "data": {
      "text/plain": [
       "5299.645033690066"
      ]
     },
     "execution_count": 171,
     "metadata": {},
     "output_type": "execute_result"
    }
   ],
   "source": [
    "mean_absolute_error(y_test,model.predict(X_test))"
   ]
  },
  {
   "cell_type": "code",
   "execution_count": 177,
   "id": "54710f4e",
   "metadata": {},
   "outputs": [
    {
     "data": {
      "image/png": "[encoded data removed]",
      "text/plain": [
       "<Figure size 640x480 with 1 Axes>"
      ]
     },
     "metadata": {},
     "output_type": "display_data"
    }
   ],
   "source": [
    "feat_name=model[:-1].get_feature_names_out()\n",
    "feat_coef=model.named_steps['ridge'].coef_\n",
    "feat_int=model.named_steps['ridge'].intercept_\n",
    "feat_imp=pd.Series(feat_coef,index=feat_name)\n",
    "feat_imp.index=feat_imp.index.str.replace('onehotencoder__','')\n",
    "feat_imp.sort_values(key=abs).tail(15).plot(kind='barh');"
   ]
  },
  {
   "cell_type": "markdown",
   "id": "59e9e392",
   "metadata": {},
   "source": [
    "# Prediction Function"
   ]
  },
  {
   "cell_type": "code",
   "execution_count": 216,
   "id": "2abfb10a",
   "metadata": {},
   "outputs": [],
   "source": [
    "def make_prediction(Brand,Kilometres,FuelType,Engine,BodyType,Age):\n",
    "    data={'Brand':Brand,'Kilometres':Kilometres,'FuelType':FuelType,'Engine':Engine,'BodyType':BodyType,'Age(years)':Age}\n",
    "    df=pd.DataFrame(data,index=[0])\n",
    "    if model.predict(df)[0]>0:\n",
    "        prediction=model.predict(df)[0].round(2)\n",
    "    else:\n",
    "        prediction=0\n",
    "    return prediction\n"
   ]
  },
  {
   "cell_type": "markdown",
   "id": "0849c4f8",
   "metadata": {},
   "source": [
    "# Interactive Board"
   ]
  },
  {
   "cell_type": "code",
   "execution_count": 217,
   "id": "696d8ce9",
   "metadata": {},
   "outputs": [
    {
     "data": {
      "application/vnd.jupyter.widget-view+json": {
       "model_id": "1fa3ec9806e54e4d8d40f78b1e06a8a4",
       "version_major": 2,
       "version_minor": 0
      },
      "text/plain": [
       "interactive(children=(Dropdown(description='Brand', options=('Audi', 'BMW', 'Chrysler', 'Ford', 'GWM', 'Holden…"
      ]
     },
     "metadata": {},
     "output_type": "display_data"
    }
   ],
   "source": [
    "interact(make_prediction,\n",
    "        Brand=Dropdown(options=sorted(X_train['Brand'].unique())),\n",
    "        FuelType=Dropdown(options=sorted(X_train['FuelType'].unique())),\n",
    "        BodyType=Dropdown(options=sorted(X_train['BodyType'].unique())),\n",
    "        Kilometres=IntSlider(min=0,\n",
    "                             max=X_train['Kilometres'].max()*1.5,\n",
    "                             value=X_train['Kilometres'].mean()\n",
    "                  ),\n",
    "        Engine=FloatSlider(min=0,\n",
    "                             max=X_train['Engine'].max()*1.5,\n",
    "                             value=X_train['Engine'].mean()\n",
    "                  ),\n",
    "        Age=IntSlider(min=0,\n",
    "                             max=X_train['Age(years)'].max()*1.5,\n",
    "                             value=X_train['Age(years)'].mean()\n",
    "                  ),);"
   ]
  },
  {
   "cell_type": "code",
   "execution_count": 201,
   "id": "f0429780",
   "metadata": {},
   "outputs": [
    {
     "data": {
      "text/plain": [
       "37492.95697883841"
      ]
     },
     "execution_count": 201,
     "metadata": {},
     "output_type": "execute_result"
    }
   ],
   "source": [
    "make_prediction(\"Toyota\",60000,'Premium',2.0,'Sedan',5)"
   ]
  },
  {
   "cell_type": "code",
   "execution_count": null,
   "id": "10f0c457",
   "metadata": {},
   "outputs": [],
   "source": []
  },
  {
   "cell_type": "code",
   "execution_count": 203,
   "id": "f679c974",
   "metadata": {},
   "outputs": [],
   "source": [
    "def trim_data(df):\n",
    "    for column in df.select_dtypes('object').columns:\n",
    "        mask=(df[column].value_counts()[df[column].value_counts()<5])\n",
    "        feat=[names for names,value in mask.items()]\n",
    "        for name in feat:\n",
    "            df=df.drop(df[df[column]==name].index, axis=0)"
   ]
  },
  {
   "cell_type": "code",
   "execution_count": null,
   "id": "07a832c5",
   "metadata": {},
   "outputs": [],
   "source": []
  }
 ],
 "metadata": {
  "kernelspec": {
   "display_name": "Python 3 (ipykernel)",
   "language": "python",
   "name": "python3"
  },
  "language_info": {
   "codemirror_mode": {
    "name": "ipython",
    "version": 3
   },
   "file_extension": ".py",
   "mimetype": "text/x-python",
   "name": "python",
   "nbconvert_exporter": "python",
   "pygments_lexer": "ipython3",
   "version": "3.9.16"
  }
 },
 "nbformat": 4,
 "nbformat_minor": 5
}
